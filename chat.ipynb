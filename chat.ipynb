{
 "cells": [
  {
   "cell_type": "code",
   "execution_count": 1,
   "metadata": {},
   "outputs": [],
   "source": [
    "from langchain_community.document_loaders import DirectoryLoader\n",
    "from langchain_community.document_loaders import TextLoader\n",
    "loader = DirectoryLoader('opinion_text', glob=\"*.txt\",loader_cls=TextLoader)\n",
    "\n",
    "docs = loader.load()\n"
   ]
  },
  {
   "cell_type": "code",
   "execution_count": 2,
   "metadata": {},
   "outputs": [
    {
     "data": {
      "text/plain": [
       "['opinion_text/9481022_In the Matter of Shaquandra A. Woods.txt',\n",
       " 'opinion_text/9505041_JANE DOE v. STABLEGOLD HOSPITALITY, LLC.txt',\n",
       " 'opinion_text/9506609_WILLIAM COLE REDFEARN v. JAADE MOORE.txt',\n",
       " 'opinion_text/9481023_In the Matter of Andrea Jo Anne David-Vega.txt',\n",
       " 'opinion_text/9481025_CRARY v. CLAUTICE.txt',\n",
       " 'opinion_text/9506056_In the Interest of I.H., a Child (Mother).txt',\n",
       " 'opinion_text/9501548_Ty Rutledge v. State.txt',\n",
       " 'opinion_text/1327652_Turner v. Turner.txt',\n",
       " 'opinion_text/9506575_Bibb County School District v. Ivori Bennett.txt',\n",
       " 'opinion_text/9501681_Feder v. State.txt',\n",
       " 'opinion_text/9503118_RAFAEL E. AGUIRRE v. YESLY TAVERA.txt',\n",
       " 'opinion_text/9502281_Vincent Ivory Hall v. State.txt',\n",
       " 'opinion_text/9507128_Ptav, Inc. v. Ralph + Rita Venture, LLC.txt',\n",
       " 'opinion_text/9505463_Mayor and Aldermen of the City of Savannah v. Gladys Charlene D. Altman.txt',\n",
       " 'opinion_text/9505827_Greene County Health Care, LLC v. Janice Heath.txt',\n",
       " 'opinion_text/9502286_Andrew William Eckerd v. Mary Ellen Carter.txt',\n",
       " 'opinion_text/9493792_Stryker v. State.txt',\n",
       " 'opinion_text/9493795_In the Matter of Paul Jason York.txt',\n",
       " 'opinion_text/9497883_Schmitt v. State.txt',\n",
       " 'opinion_text/9501604_Vbt LLC v. John Douglas Dunn, Jr..txt',\n",
       " 'opinion_text/1351880_Mickens v. State.txt',\n",
       " 'opinion_text/9502283_Roland Pinkney v. Parkway Law Group LLC.txt',\n",
       " 'opinion_text/9502284_IRISH ANGELA FREY v. NATIONWIDE MUTUAL INSURANCE COMPANY.txt',\n",
       " 'opinion_text/9505952_PRECIOUS ANDERSON v. SCOTT M. KAYE.txt',\n",
       " 'opinion_text/9501680_Gray v. State.txt',\n",
       " 'opinion_text/9505387_In the Interest of S. S. S., Children (Mother).txt',\n",
       " 'opinion_text/9506416_MONTE DAVIS v. LAND-RON, INC..txt',\n",
       " 'opinion_text/1287962_Landers v. State.txt',\n",
       " 'opinion_text/9497886_Pittman v. State.txt',\n",
       " 'opinion_text/9505072_Ray Taylor v. Kenneth Williams.txt',\n",
       " 'opinion_text/9506612_CITY OF COLLEGE PARK v. MIRIAM STEELE.txt',\n",
       " 'opinion_text/9485201_Howard v. State.txt',\n",
       " 'opinion_text/1364174_Wiggins v. State.txt',\n",
       " 'opinion_text/9501528_Elaine Taylor v. Fulton County Probate Court.txt',\n",
       " 'opinion_text/9503117_RAYNIER MARQUEZ v. RAFAEL E. AGUIRRE.txt',\n",
       " 'opinion_text/9493791_Thompson v. State.txt',\n",
       " 'opinion_text/1413573_DeKalb County v. Atlanta Gas Light Co..txt',\n",
       " 'opinion_text/1211045_Baxter v. State.txt',\n",
       " 'opinion_text/9497881_Smith v. State.txt',\n",
       " 'opinion_text/9501808_Stanford King v. State.txt',\n",
       " 'opinion_text/1329351_Cook v. Robinson.txt',\n",
       " 'opinion_text/9481015_State v. LEDBETTER (And Vice Versa).txt',\n",
       " 'opinion_text/9501527_Kristeen Wilber v. Georgia Total Cleaning, LLC.txt',\n",
       " 'opinion_text/9501679_In the Matter of James W. Davis, III.txt',\n",
       " 'opinion_text/9506973_Edvado Bernard Harris v. State.txt',\n",
       " 'opinion_text/9505828_Confesor Chaparro v. State.txt',\n",
       " 'opinion_text/9506611_Gregory Lamar Ward v. State.txt',\n",
       " 'opinion_text/1341256_Johnson v. Smith.txt',\n",
       " 'opinion_text/9507129_Lavelle Morring v. Angelina Morring.txt',\n",
       " 'opinion_text/9501940_CONNIE LINDSEY v. HOME DEPOT U.S.A., INC..txt',\n",
       " 'opinion_text/9481018_McKinney v. State.txt',\n",
       " 'opinion_text/9493794_MILTON v. THE STATE (Two Cases).txt',\n",
       " 'opinion_text/1224790_Lake Lanier Theatres v. Hall County.txt',\n",
       " 'opinion_text/9505826_KARL ZICKEFOOSE v. JAMES A. MURPHY.txt',\n",
       " 'opinion_text/9505259_THOMAS E. DIXON III v. RONALD E. COLEMAN.txt',\n",
       " 'opinion_text/9501676_Mayo v. State.txt',\n",
       " 'opinion_text/9497880_Ward v. State.txt',\n",
       " 'opinion_text/9502285_Christopher Shawn Shriver v. State.txt',\n",
       " 'opinion_text/9493793_Stroud v. State.txt',\n",
       " 'opinion_text/9507112_Abba Yakob AKA Abba Gebremariam Ayallew v. Kidist Mariam Ethiopian Orthodox Tewahedo Church, Inc.txt',\n",
       " 'opinion_text/9506613_Ashley Nicole Geiger v. Patti Allmond.txt',\n",
       " 'opinion_text/9481026_Baker v. State.txt',\n",
       " 'opinion_text/9497889_Hooks v. State.txt',\n",
       " 'opinion_text/9506267_Jerry Dwayne Adams v. State.txt',\n",
       " 'opinion_text/9500812_COBB COUNTY v. FLOAM.txt',\n",
       " 'opinion_text/9481020_Madera v. State.txt',\n",
       " 'opinion_text/9481017_Palmer v. State.txt',\n",
       " 'opinion_text/1256588_Kiker v. Worley.txt',\n",
       " 'opinion_text/9502282_Stewart Cabrera-Zamarripa v. State.txt',\n",
       " 'opinion_text/9502339_Darrell Prewett v. Christopher Nash Prewett.txt',\n",
       " 'opinion_text/9481016_Sinkfield v. State.txt',\n",
       " 'opinion_text/9506699_State v. Iqukema Jones.txt',\n",
       " 'opinion_text/9507127_The City of Willacoochee, Georgia v. Myrtice Williamson.txt',\n",
       " 'opinion_text/9507126_Willie G. Smith v. Walton Residential Services.txt',\n",
       " 'opinion_text/9497885_Platt v. State.txt',\n",
       " 'opinion_text/9481024_City of Winder v. Barrow County.txt',\n",
       " 'opinion_text/1416565_Lucas v. Woodward.txt',\n",
       " 'opinion_text/9497882_Sconyers v. State.txt',\n",
       " 'opinion_text/9501682_Anderson v. State.txt',\n",
       " 'opinion_text/9501678_Isaac v. State.txt',\n",
       " 'opinion_text/9506303_Eboni Stembridge v. Pride Utility Construction Co., LLC.txt',\n",
       " 'opinion_text/9497884_Sauder v. State.txt',\n",
       " 'opinion_text/9497887_POWELL v. THE STATE (Two Cases).txt',\n",
       " 'opinion_text/9506238_In the Interest of L. K. a Child (Father).txt',\n",
       " 'opinion_text/9502902_LORIN COHEN v. XYTEX CRYTO INTERNATIONAL, LTD.txt',\n",
       " 'opinion_text/1317780_Chambers v. Chambers.txt',\n",
       " 'opinion_text/9502349_Jennifer Miller v. 2018-4 Ih Borrower, Lp.txt',\n",
       " 'opinion_text/1277170_McFarland v. DeKalb County.txt',\n",
       " 'opinion_text/9501677_Jackson v. State.txt',\n",
       " 'opinion_text/1247775_Pope v. City of Atlanta.txt',\n",
       " 'opinion_text/9497888_Huber v. State.txt',\n",
       " 'opinion_text/9502348_Kellie Lynn Hudson Jackson v. Sean Thomas Jackson.txt',\n",
       " 'opinion_text/1328779_Roland v. Meadows.txt',\n",
       " 'opinion_text/9485200_In the Matter of Joel David Myers.txt',\n",
       " 'opinion_text/9485202_Hassan v. State.txt',\n",
       " 'opinion_text/9501809_MARCELA RAMOS v. JPMORGAN CHASE BANK, N.A. SUCCESSOR BY MERGER TO CHASE HOME FINANCE, LLC.txt',\n",
       " 'opinion_text/9502882_Tayler Brooke Cunningham v. Matthew Jordan McDaniel.txt',\n",
       " 'opinion_text/9501984_Washington Davis v. Shukura L. Ingram, Judge.txt',\n",
       " 'opinion_text/9485204_Durden v. State.txt',\n",
       " 'opinion_text/9485199_Richardson v. State.txt',\n",
       " 'opinion_text/9501983_Washington Davis v. the Fulton County Snap Program.txt',\n",
       " 'opinion_text/9501904_Joseph Coleman v. Wilmington Savings Fund Society, Fsb, Dba Christiana Trust.txt',\n",
       " 'opinion_text/9506610_Rhett Kenneth Morgan v. Susan Morgan.txt',\n",
       " 'opinion_text/9493790_Victory Media Group, LLC v. Georgia Department of Transportation.txt',\n",
       " 'opinion_text/9497890_City of Atlanta v. 400 Edgewood, LLC.txt',\n",
       " 'opinion_text/9485203_Everett v. State.txt',\n",
       " 'opinion_text/9502350_Jamie Lord v. Kimberly Loftin.txt',\n",
       " 'opinion_text/9507041_SCRUDDER, BASS, QUILLIAN, HORLOCK, LAZARUS & ADELE, LLP v. RHONDA BARKEN.txt',\n",
       " 'opinion_text/9506700_Elmaree Bruton v. Geico Casualty Company.txt',\n",
       " 'opinion_text/9506517_Kalongki Chapman v. Lindsey Chapman.txt',\n",
       " 'opinion_text/9484196_Andre Pugh v. State.txt',\n",
       " 'opinion_text/9507111_Taqwa Siddeeq v. Country Club of Gwinnett Owners Association, Inc..txt',\n",
       " 'opinion_text/9481019_McCullum v. State.txt',\n",
       " 'opinion_text/9493796_Henderson v. State.txt',\n",
       " 'opinion_text/9505909_JOSEPH GRIFFIN v. THE EMORY CLINIC INC..txt',\n",
       " 'opinion_text/9502799_James Lamar Wright, Jr. v. State.txt',\n",
       " 'opinion_text/9481021_Jennings v. State.txt',\n",
       " 'opinion_text/9502347_Khiry Hakim Clemons v. State.txt',\n",
       " 'opinion_text/5307907_TACTICAL SECURITY GROUP, LLC v. CYNTHIA WELCH.txt',\n",
       " 'opinion_text/9506676_David Hill Hopkins v. Heather Hopkins.txt']"
      ]
     },
     "execution_count": 2,
     "metadata": {},
     "output_type": "execute_result"
    }
   ],
   "source": [
    "doc_sources = [doc.metadata['source']  for doc in docs]\n",
    "doc_sources"
   ]
  },
  {
   "cell_type": "code",
   "execution_count": 3,
   "metadata": {},
   "outputs": [
    {
     "name": "stderr",
     "output_type": "stream",
     "text": [
      "Warning: model not found. Using cl100k_base encoding.\n"
     ]
    }
   ],
   "source": [
    "import os\n",
    "\n",
    "\n",
    "os.environ['OPENAI_API_KEY'] = 'sk-proj-aEREtcEjUj6xS7dx6qWlT3BlbkFJGJSTclsKd1CBzSPc9FOq'\n",
    "from langchain_openai import OpenAIEmbeddings\n",
    "from langchain_text_splitters import RecursiveCharacterTextSplitter\n",
    "from langchain_chroma import Chroma\n",
    "text_splitter = RecursiveCharacterTextSplitter(chunk_size=2000, chunk_overlap=300)\n",
    "documents = text_splitter.split_documents(docs)\n",
    "db = Chroma.from_documents(persist_directory='./chromadb',documents=documents,embedding=OpenAIEmbeddings(model=\"text-embedding-3-large\"))\n"
   ]
  },
  {
   "cell_type": "code",
   "execution_count": 11,
   "metadata": {},
   "outputs": [],
   "source": [
    "from langchain.chains.question_answering import load_qa_chain\n",
    "import json\n",
    "from langchain.chains.conversational_retrieval.prompts import (\n",
    "    CONDENSE_QUESTION_PROMPT,\n",
    "\n",
    ")\n",
    "from langchain.chains import (\n",
    "    LLMChain, ConversationalRetrievalChain\n",
    ")\n",
    "from langchain_core.prompts import PromptTemplate\n",
    "from langchain.chat_models import ChatOpenAI\n",
    "def chat_scale_ai(query):\n",
    "    prompt_template = \"\"\"\n",
    "                Act as an expert lawyer and use the following pieces of context of cases to formulate an answer based on them. If you don't know the answer, just say that you don't know, don't try to make up an answer.\n",
    "                {context}\n",
    "                Question: {question}\n",
    "                Helpful Answer:\"\"\"\n",
    "    try:\n",
    "        with open('chat_history.json', 'r') as chat_hist_load:\n",
    "                chat_hist_dict = json.load(chat_hist_load)\n",
    "                chat_hist_dict_for_llm = [(x,y) for x,y in chat_hist_dict['Question']] \n",
    "        if len(chat_hist_dict) > 2:\n",
    "            chat_hist_dict = {}\n",
    "            with open('chat_history.json', 'w') as chat_hist_load:\n",
    "                chat_hist_dict = json.dump({})      \n",
    "    except:\n",
    "        chat_hist_dict = {}\n",
    "    PROMPT = PromptTemplate(template=prompt_template, input_variables=[\"context\", \"question\"])\n",
    "    loaded_db = Chroma(persist_directory='./chromadb', embedding_function=OpenAIEmbeddings(model=\"text-embedding-3-large\"))\n",
    "    llm = ChatOpenAI(model_name='gpt-4o',temperature=0.1)\n",
    "    question_generator = LLMChain(llm=llm, prompt=CONDENSE_QUESTION_PROMPT)\n",
    "    doc_chain = load_qa_chain(llm, chain_type=\"stuff\", prompt=PROMPT)\n",
    "    test_retriever = loaded_db.as_retriever()\n",
    "    qa = ConversationalRetrievalChain(\n",
    "        combine_docs_chain=doc_chain,\n",
    "        retriever=test_retriever,\n",
    "        question_generator=question_generator,\n",
    "        \n",
    "    )\n",
    "\n",
    "    if len(chat_hist_dict) > 0:\n",
    "        payload = qa({\"question\":str(query), \"chat_history\":chat_hist_dict_for_llm})\n",
    "    else:\n",
    "        payload = qa({\"question\":str(query), \"chat_history\":[]})\n",
    "        \n",
    "        \n",
    "    if len(chat_hist_dict) == 0:\n",
    "        chat_hist_dict[\"Question\"] = []\n",
    "\n",
    "    chat_hist_dict['Question'].append((query, payload['answer']))\n",
    "\n",
    "    with open('chat_history.json', 'w') as chat_hist:\n",
    "        json.dump(chat_hist_dict,chat_hist)\n",
    "    # print(payload['answer'])\n",
    "    return payload['answer']"
   ]
  },
  {
   "cell_type": "code",
   "execution_count": 12,
   "metadata": {},
   "outputs": [
    {
     "name": "stderr",
     "output_type": "stream",
     "text": [
      "Warning: model not found. Using cl100k_base encoding.\n"
     ]
    },
    {
     "data": {
      "text/plain": [
       "'In Georgia, the standard for determining child custody is the \"best interests of the child.\" This standard is codified in OCGA § 19-9-3(a)(2), which requires the court to consider the best interests of the child in making custody decisions. The court evaluates various factors to determine what arrangement will best serve the child\\'s physical, mental, and emotional needs. These factors can include, but are not limited to:\\n\\n1. The love, affection, bonding, and emotional ties existing between each parent and the child.\\n2. The capacity and disposition of each parent to give the child love, affection, and guidance and to continue the education and rearing of the child.\\n3. Each parent\\'s knowledge and familiarity of the child and the child\\'s needs.\\n4. The capacity and disposition of each parent to provide the child with food, clothing, medical care, day-to-day needs, and other necessary basic care.\\n5. The home environment of each parent considering the promotion of nurturance and safety of the child rather than superficial or material factors.\\n6. The importance of continuity in the child\\'s life and the length of time the child has lived in a stable, satisfactory environment and the desirability of maintaining continuity.\\n7. The stability of the family unit of each of the parents and the presence or absence of each parent\\'s support systems within the community to benefit the child.\\n8. The mental and physical health of each parent.\\n9. Each parent\\'s involvement, or lack thereof, in the child\\'s educational, social, and extracurricular activities.\\n10. Each parent\\'s employment schedule and the related flexibility or limitations, if any, of a parent to care for the child.\\n11. The home, school, and community record and history of the child, as well as any health or educational special needs of the child.\\n12. The willingness and ability of each parent to facilitate and encourage a close and continuing parent-child relationship between the child and the other parent, consistent with the best interest of the child.\\n13. Any recommendation by a court-appointed custody evaluator or guardian ad litem.\\n14. Any evidence of family violence or sexual, mental, or physical child abuse or criminal history of either parent.\\n15. Any evidence of substance abuse by either parent.\\n\\nThe court has broad discretion in weighing these factors and making a custody determination. The primary focus is always on what will best serve the child\\'s overall welfare and development.'"
      ]
     },
     "execution_count": 12,
     "metadata": {},
     "output_type": "execute_result"
    }
   ],
   "source": [
    "chat_scale_ai(\"What is the standard for determining child custody in Georgia?\")"
   ]
  }
 ],
 "metadata": {
  "kernelspec": {
   "display_name": "MARBLE",
   "language": "python",
   "name": "python3"
  },
  "language_info": {
   "codemirror_mode": {
    "name": "ipython",
    "version": 3
   },
   "file_extension": ".py",
   "mimetype": "text/x-python",
   "name": "python",
   "nbconvert_exporter": "python",
   "pygments_lexer": "ipython3",
   "version": "3.11.1"
  }
 },
 "nbformat": 4,
 "nbformat_minor": 2
}
