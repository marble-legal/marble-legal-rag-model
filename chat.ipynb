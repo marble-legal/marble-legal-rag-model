{
 "cells": [
  {
   "cell_type": "code",
   "execution_count": 1,
   "metadata": {},
   "outputs": [],
   "source": [
    "from langchain_community.document_loaders import DirectoryLoader\n",
    "from langchain_community.document_loaders import TextLoader\n",
    "loader = DirectoryLoader('opinion_text', glob=\"*.txt\",loader_cls=TextLoader)\n",
    "\n",
    "docs = loader.load()\n"
   ]
  },
  {
   "cell_type": "code",
   "execution_count": 2,
   "metadata": {},
   "outputs": [
    {
     "data": {
      "text/plain": [
       "['opinion_text/9481022_In the Matter of Shaquandra A. Woods.txt',\n",
       " 'opinion_text/9505041_JANE DOE v. STABLEGOLD HOSPITALITY, LLC.txt',\n",
       " 'opinion_text/9506609_WILLIAM COLE REDFEARN v. JAADE MOORE.txt',\n",
       " 'opinion_text/9481023_In the Matter of Andrea Jo Anne David-Vega.txt',\n",
       " 'opinion_text/9481025_CRARY v. CLAUTICE.txt',\n",
       " 'opinion_text/9506056_In the Interest of I.H., a Child (Mother).txt',\n",
       " 'opinion_text/9501548_Ty Rutledge v. State.txt',\n",
       " 'opinion_text/1327652_Turner v. Turner.txt',\n",
       " 'opinion_text/9506575_Bibb County School District v. Ivori Bennett.txt',\n",
       " 'opinion_text/9501681_Feder v. State.txt',\n",
       " 'opinion_text/9503118_RAFAEL E. AGUIRRE v. YESLY TAVERA.txt',\n",
       " 'opinion_text/9502281_Vincent Ivory Hall v. State.txt',\n",
       " 'opinion_text/9507128_Ptav, Inc. v. Ralph + Rita Venture, LLC.txt',\n",
       " 'opinion_text/9505463_Mayor and Aldermen of the City of Savannah v. Gladys Charlene D. Altman.txt',\n",
       " 'opinion_text/9505827_Greene County Health Care, LLC v. Janice Heath.txt',\n",
       " 'opinion_text/9502286_Andrew William Eckerd v. Mary Ellen Carter.txt',\n",
       " 'opinion_text/9493792_Stryker v. State.txt',\n",
       " 'opinion_text/9493795_In the Matter of Paul Jason York.txt',\n",
       " 'opinion_text/9497883_Schmitt v. State.txt',\n",
       " 'opinion_text/9501604_Vbt LLC v. John Douglas Dunn, Jr..txt',\n",
       " 'opinion_text/1351880_Mickens v. State.txt',\n",
       " 'opinion_text/9502283_Roland Pinkney v. Parkway Law Group LLC.txt',\n",
       " 'opinion_text/9502284_IRISH ANGELA FREY v. NATIONWIDE MUTUAL INSURANCE COMPANY.txt',\n",
       " 'opinion_text/9505952_PRECIOUS ANDERSON v. SCOTT M. KAYE.txt',\n",
       " 'opinion_text/9501680_Gray v. State.txt',\n",
       " 'opinion_text/9505387_In the Interest of S. S. S., Children (Mother).txt',\n",
       " 'opinion_text/9506416_MONTE DAVIS v. LAND-RON, INC..txt',\n",
       " 'opinion_text/1287962_Landers v. State.txt',\n",
       " 'opinion_text/9497886_Pittman v. State.txt',\n",
       " 'opinion_text/9505072_Ray Taylor v. Kenneth Williams.txt',\n",
       " 'opinion_text/9506612_CITY OF COLLEGE PARK v. MIRIAM STEELE.txt',\n",
       " 'opinion_text/9485201_Howard v. State.txt',\n",
       " 'opinion_text/1364174_Wiggins v. State.txt',\n",
       " 'opinion_text/9501528_Elaine Taylor v. Fulton County Probate Court.txt',\n",
       " 'opinion_text/9503117_RAYNIER MARQUEZ v. RAFAEL E. AGUIRRE.txt',\n",
       " 'opinion_text/9493791_Thompson v. State.txt',\n",
       " 'opinion_text/1413573_DeKalb County v. Atlanta Gas Light Co..txt',\n",
       " 'opinion_text/1211045_Baxter v. State.txt',\n",
       " 'opinion_text/9497881_Smith v. State.txt',\n",
       " 'opinion_text/9501808_Stanford King v. State.txt',\n",
       " 'opinion_text/1329351_Cook v. Robinson.txt',\n",
       " 'opinion_text/9481015_State v. LEDBETTER (And Vice Versa).txt',\n",
       " 'opinion_text/9501527_Kristeen Wilber v. Georgia Total Cleaning, LLC.txt',\n",
       " 'opinion_text/9501679_In the Matter of James W. Davis, III.txt',\n",
       " 'opinion_text/9506973_Edvado Bernard Harris v. State.txt',\n",
       " 'opinion_text/9505828_Confesor Chaparro v. State.txt',\n",
       " 'opinion_text/9506611_Gregory Lamar Ward v. State.txt',\n",
       " 'opinion_text/1341256_Johnson v. Smith.txt',\n",
       " 'opinion_text/9507129_Lavelle Morring v. Angelina Morring.txt',\n",
       " 'opinion_text/9501940_CONNIE LINDSEY v. HOME DEPOT U.S.A., INC..txt',\n",
       " 'opinion_text/9481018_McKinney v. State.txt',\n",
       " 'opinion_text/9493794_MILTON v. THE STATE (Two Cases).txt',\n",
       " 'opinion_text/1224790_Lake Lanier Theatres v. Hall County.txt',\n",
       " 'opinion_text/9505826_KARL ZICKEFOOSE v. JAMES A. MURPHY.txt',\n",
       " 'opinion_text/9505259_THOMAS E. DIXON III v. RONALD E. COLEMAN.txt',\n",
       " 'opinion_text/9501676_Mayo v. State.txt',\n",
       " 'opinion_text/9497880_Ward v. State.txt',\n",
       " 'opinion_text/9502285_Christopher Shawn Shriver v. State.txt',\n",
       " 'opinion_text/9493793_Stroud v. State.txt',\n",
       " 'opinion_text/9507112_Abba Yakob AKA Abba Gebremariam Ayallew v. Kidist Mariam Ethiopian Orthodox Tewahedo Church, Inc.txt',\n",
       " 'opinion_text/9506613_Ashley Nicole Geiger v. Patti Allmond.txt',\n",
       " 'opinion_text/9481026_Baker v. State.txt',\n",
       " 'opinion_text/9497889_Hooks v. State.txt',\n",
       " 'opinion_text/9506267_Jerry Dwayne Adams v. State.txt',\n",
       " 'opinion_text/9500812_COBB COUNTY v. FLOAM.txt',\n",
       " 'opinion_text/9481020_Madera v. State.txt',\n",
       " 'opinion_text/9481017_Palmer v. State.txt',\n",
       " 'opinion_text/1256588_Kiker v. Worley.txt',\n",
       " 'opinion_text/9502282_Stewart Cabrera-Zamarripa v. State.txt',\n",
       " 'opinion_text/9502339_Darrell Prewett v. Christopher Nash Prewett.txt',\n",
       " 'opinion_text/9481016_Sinkfield v. State.txt',\n",
       " 'opinion_text/9506699_State v. Iqukema Jones.txt',\n",
       " 'opinion_text/9507127_The City of Willacoochee, Georgia v. Myrtice Williamson.txt',\n",
       " 'opinion_text/9507126_Willie G. Smith v. Walton Residential Services.txt',\n",
       " 'opinion_text/9497885_Platt v. State.txt',\n",
       " 'opinion_text/9481024_City of Winder v. Barrow County.txt',\n",
       " 'opinion_text/1416565_Lucas v. Woodward.txt',\n",
       " 'opinion_text/9497882_Sconyers v. State.txt',\n",
       " 'opinion_text/9501682_Anderson v. State.txt',\n",
       " 'opinion_text/9501678_Isaac v. State.txt',\n",
       " 'opinion_text/9506303_Eboni Stembridge v. Pride Utility Construction Co., LLC.txt',\n",
       " 'opinion_text/9497884_Sauder v. State.txt',\n",
       " 'opinion_text/9497887_POWELL v. THE STATE (Two Cases).txt',\n",
       " 'opinion_text/9506238_In the Interest of L. K. a Child (Father).txt',\n",
       " 'opinion_text/9502902_LORIN COHEN v. XYTEX CRYTO INTERNATIONAL, LTD.txt',\n",
       " 'opinion_text/1317780_Chambers v. Chambers.txt',\n",
       " 'opinion_text/9502349_Jennifer Miller v. 2018-4 Ih Borrower, Lp.txt',\n",
       " 'opinion_text/1277170_McFarland v. DeKalb County.txt',\n",
       " 'opinion_text/9501677_Jackson v. State.txt',\n",
       " 'opinion_text/1247775_Pope v. City of Atlanta.txt',\n",
       " 'opinion_text/9497888_Huber v. State.txt',\n",
       " 'opinion_text/9502348_Kellie Lynn Hudson Jackson v. Sean Thomas Jackson.txt',\n",
       " 'opinion_text/1328779_Roland v. Meadows.txt',\n",
       " 'opinion_text/9485200_In the Matter of Joel David Myers.txt',\n",
       " 'opinion_text/9485202_Hassan v. State.txt',\n",
       " 'opinion_text/9501809_MARCELA RAMOS v. JPMORGAN CHASE BANK, N.A. SUCCESSOR BY MERGER TO CHASE HOME FINANCE, LLC.txt',\n",
       " 'opinion_text/9502882_Tayler Brooke Cunningham v. Matthew Jordan McDaniel.txt',\n",
       " 'opinion_text/9501984_Washington Davis v. Shukura L. Ingram, Judge.txt',\n",
       " 'opinion_text/9485204_Durden v. State.txt',\n",
       " 'opinion_text/9485199_Richardson v. State.txt',\n",
       " 'opinion_text/9501983_Washington Davis v. the Fulton County Snap Program.txt',\n",
       " 'opinion_text/9501904_Joseph Coleman v. Wilmington Savings Fund Society, Fsb, Dba Christiana Trust.txt',\n",
       " 'opinion_text/9506610_Rhett Kenneth Morgan v. Susan Morgan.txt',\n",
       " 'opinion_text/9493790_Victory Media Group, LLC v. Georgia Department of Transportation.txt',\n",
       " 'opinion_text/9497890_City of Atlanta v. 400 Edgewood, LLC.txt',\n",
       " 'opinion_text/9485203_Everett v. State.txt',\n",
       " 'opinion_text/9502350_Jamie Lord v. Kimberly Loftin.txt',\n",
       " 'opinion_text/9507041_SCRUDDER, BASS, QUILLIAN, HORLOCK, LAZARUS & ADELE, LLP v. RHONDA BARKEN.txt',\n",
       " 'opinion_text/9506700_Elmaree Bruton v. Geico Casualty Company.txt',\n",
       " 'opinion_text/9506517_Kalongki Chapman v. Lindsey Chapman.txt',\n",
       " 'opinion_text/9484196_Andre Pugh v. State.txt',\n",
       " 'opinion_text/9507111_Taqwa Siddeeq v. Country Club of Gwinnett Owners Association, Inc..txt',\n",
       " 'opinion_text/9481019_McCullum v. State.txt',\n",
       " 'opinion_text/9493796_Henderson v. State.txt',\n",
       " 'opinion_text/9505909_JOSEPH GRIFFIN v. THE EMORY CLINIC INC..txt',\n",
       " 'opinion_text/9502799_James Lamar Wright, Jr. v. State.txt',\n",
       " 'opinion_text/9481021_Jennings v. State.txt',\n",
       " 'opinion_text/9502347_Khiry Hakim Clemons v. State.txt',\n",
       " 'opinion_text/5307907_TACTICAL SECURITY GROUP, LLC v. CYNTHIA WELCH.txt',\n",
       " 'opinion_text/9506676_David Hill Hopkins v. Heather Hopkins.txt']"
      ]
     },
     "execution_count": 2,
     "metadata": {},
     "output_type": "execute_result"
    }
   ],
   "source": [
    "doc_sources = [doc.metadata['source']  for doc in docs]\n",
    "doc_sources"
   ]
  },
  {
   "cell_type": "code",
   "execution_count": 5,
   "metadata": {},
   "outputs": [
    {
     "ename": "NameError",
     "evalue": "name 'docs' is not defined",
     "output_type": "error",
     "traceback": [
      "\u001b[0;31m---------------------------------------------------------------------------\u001b[0m",
      "\u001b[0;31mNameError\u001b[0m                                 Traceback (most recent call last)",
      "Cell \u001b[0;32mIn[5], line 9\u001b[0m\n\u001b[1;32m      7\u001b[0m \u001b[38;5;28;01mfrom\u001b[39;00m \u001b[38;5;21;01mlangchain_chroma\u001b[39;00m \u001b[38;5;28;01mimport\u001b[39;00m Chroma\n\u001b[1;32m      8\u001b[0m text_splitter \u001b[38;5;241m=\u001b[39m RecursiveCharacterTextSplitter(chunk_size\u001b[38;5;241m=\u001b[39m\u001b[38;5;241m2000\u001b[39m, chunk_overlap\u001b[38;5;241m=\u001b[39m\u001b[38;5;241m300\u001b[39m)\n\u001b[0;32m----> 9\u001b[0m documents \u001b[38;5;241m=\u001b[39m text_splitter\u001b[38;5;241m.\u001b[39msplit_documents(\u001b[43mdocs\u001b[49m)\n\u001b[1;32m     10\u001b[0m db \u001b[38;5;241m=\u001b[39m Chroma\u001b[38;5;241m.\u001b[39mfrom_documents(persist_directory\u001b[38;5;241m=\u001b[39m\u001b[38;5;124m'\u001b[39m\u001b[38;5;124m./chromadb\u001b[39m\u001b[38;5;124m'\u001b[39m,documents\u001b[38;5;241m=\u001b[39mdocuments,embedding\u001b[38;5;241m=\u001b[39mOpenAIEmbeddings(model\u001b[38;5;241m=\u001b[39m\u001b[38;5;124m\"\u001b[39m\u001b[38;5;124mtext-embedding-3-large\u001b[39m\u001b[38;5;124m\"\u001b[39m))\n",
      "\u001b[0;31mNameError\u001b[0m: name 'docs' is not defined"
     ]
    }
   ],
   "source": [
    "import os\n",
    "\n",
    "\n",
    "os.environ['OPENAI_API_KEY'] = 'sk-proj-aEREtcEjUj6xS7dx6qWlT3BlbkFJGJSTclsKd1CBzSPc9FOq'\n",
    "from langchain_openai import OpenAIEmbeddings\n",
    "from langchain_text_splitters import RecursiveCharacterTextSplitter\n",
    "from langchain_chroma import Chroma\n",
    "text_splitter = RecursiveCharacterTextSplitter(chunk_size=2000, chunk_overlap=300)\n",
    "documents = text_splitter.split_documents(docs)\n",
    "db = Chroma.from_documents(persist_directory='./chromadb',documents=documents,embedding=OpenAIEmbeddings(model=\"text-embedding-3-large\"))\n"
   ]
  },
  {
   "cell_type": "code",
   "execution_count": 12,
   "metadata": {},
   "outputs": [],
   "source": [
    "from langchain.chains.question_answering import load_qa_chain\n",
    "import json\n",
    "from langchain.chains.conversational_retrieval.prompts import (\n",
    "    CONDENSE_QUESTION_PROMPT,\n",
    "\n",
    ")\n",
    "from langchain.chains import (\n",
    "    LLMChain, ConversationalRetrievalChain\n",
    ")\n",
    "from langchain_core.prompts import PromptTemplate\n",
    "from langchain.chat_models import ChatOpenAI\n",
    "def chat_scale_ai(query):\n",
    "    prompt_template = \"\"\"\n",
    "                Act as an expert lawyer and use the following pieces of context of cases to formulate an answer based on them. If you don't know the answer, just say that you don't know, don't try to make up an answer.\n",
    "                {context}\n",
    "                Question: {question}\n",
    "                Helpful Answer:\"\"\"\n",
    "    try:\n",
    "        with open('chat_history.json', 'r') as chat_hist_load:\n",
    "                chat_hist_dict = json.load(chat_hist_load)\n",
    "                chat_hist_dict_for_llm = [(x,y) for x,y in chat_hist_dict['Question']] \n",
    "        if len(chat_hist_dict) > 2:\n",
    "            chat_hist_dict = {}\n",
    "            with open('chat_history.json', 'w') as chat_hist_load:\n",
    "                chat_hist_dict = json.dump({})      \n",
    "    except:\n",
    "        chat_hist_dict = {}\n",
    "    PROMPT = PromptTemplate(template=prompt_template, input_variables=[\"context\", \"question\"])\n",
    "    loaded_db = Chroma(persist_directory='./chromadb', embedding_function=OpenAIEmbeddings(model=\"text-embedding-3-large\"))\n",
    "    llm = ChatOpenAI(model_name='gpt-4o',temperature=0.1)\n",
    "    question_generator = LLMChain(llm=llm, prompt=CONDENSE_QUESTION_PROMPT)\n",
    "    doc_chain = load_qa_chain(llm, chain_type=\"stuff\", prompt=PROMPT)\n",
    "    test_retriever = loaded_db.as_retriever()\n",
    "    qa = ConversationalRetrievalChain(\n",
    "        combine_docs_chain=doc_chain,\n",
    "        retriever=test_retriever,\n",
    "        question_generator=question_generator,\n",
    "        return_source_documents=True\n",
    "        \n",
    "    )\n",
    "\n",
    "    if len(chat_hist_dict) > 0:\n",
    "        payload = qa({\"question\":str(query), \"chat_history\":chat_hist_dict_for_llm})\n",
    "    else:\n",
    "        payload = qa({\"question\":str(query), \"chat_history\":[]})\n",
    "        \n",
    "        \n",
    "    if len(chat_hist_dict) == 0:\n",
    "        chat_hist_dict[\"Question\"] = []\n",
    "\n",
    "    chat_hist_dict['Question'].append((query, payload['answer']))\n",
    "\n",
    "    with open('chat_history.json', 'w') as chat_hist:\n",
    "        json.dump(chat_hist_dict,chat_hist)\n",
    "    print(payload)\n",
    "    return payload['answer']"
   ]
  },
  {
   "cell_type": "code",
   "execution_count": 13,
   "metadata": {},
   "outputs": [
    {
     "name": "stdout",
     "output_type": "stream",
     "text": [
      "{'question': 'What is the standard for determining child custody in Georgia?', 'chat_history': [('What is the standard for determining child custody in Georgia?', 'In Georgia, the standard for determining child custody is the \"best interests of the child.\" This standard is codified in OCGA § 19-9-3(a)(2), which requires the court to consider the best interests of the child in making custody decisions. The court evaluates various factors to determine what arrangement will best serve the child\\'s physical, mental, and emotional needs. These factors can include, but are not limited to:\\n\\n1. The love, affection, bonding, and emotional ties existing between each parent and the child.\\n2. The capacity and disposition of each parent to give the child love, affection, and guidance and to continue the education and rearing of the child.\\n3. Each parent\\'s knowledge and familiarity of the child and the child\\'s needs.\\n4. The capacity and disposition of each parent to provide the child with food, clothing, medical care, day-to-day needs, and other necessary basic care.\\n5. The home environment of each parent considering the promotion of nurturance and safety of the child rather than superficial or material factors.\\n6. The importance of continuity in the child\\'s life and the length of time the child has lived in a stable, satisfactory environment and the desirability of maintaining continuity.\\n7. The stability of the family unit of each of the parents and the presence or absence of each parent\\'s support systems within the community to benefit the child.\\n8. The mental and physical health of each parent.\\n9. Each parent\\'s involvement, or lack thereof, in the child\\'s educational, social, and extracurricular activities.\\n10. Each parent\\'s employment schedule and the related flexibility or limitations, if any, of a parent to care for the child.\\n11. The home, school, and community record and history of the child, as well as any health or educational special needs of the child.\\n12. The willingness and ability of each parent to facilitate and encourage a close and continuing parent-child relationship between the child and the other parent, consistent with the best interest of the child.\\n13. Any recommendation by a court-appointed custody evaluator or guardian ad litem.\\n14. Any evidence of family violence or sexual, mental, or physical child abuse or criminal history of either parent.\\n15. Any evidence of substance abuse by either parent.\\n\\nThe court has broad discretion in weighing these factors and making a custody determination. The primary focus is always on what will best serve the child\\'s overall welfare and development.'), ('What is law?', 'The term \"law\" refers to a system of rules created and enforced through social or governmental institutions to regulate behavior. It is a system that regulates and ensures that individuals or a community adhere to the will of the state. The law is established and enforced by the controlling authority, typically the government, and it is backed by the enforcement of penalties. The law shapes politics, economics, history, and society in various ways and serves as a mediator of relations between people.'), ('What is the standard for determining child custody in Georgia?', 'In Georgia, the standard for determining child custody is the \"best interests of the child.\" This standard is codified in OCGA § 19-9-3(a)(2), which requires the court to consider the best interests of the child in making any custody determination. The court may consider a variety of factors, including but not limited to:\\n\\n1. The love, affection, bonding, and emotional ties existing between each parent and the child.\\n2. The capacity and disposition of each parent to give the child love, affection, and guidance and to continue the education and rearing of the child.\\n3. Each parent\\'s knowledge and familiarity of the child and the child\\'s needs.\\n4. The capacity and disposition of each parent to provide the child with food, clothing, medical care, day-to-day needs, and other necessary basic care.\\n5. The home environment of each parent considering the promotion of nurturance and safety of the child rather than superficial or material factors.\\n6. The importance of continuity in the child\\'s life and the length of time the child has lived in a stable, satisfactory environment and the desirability of maintaining continuity.\\n7. The stability of the family unit of each of the parents and the presence or absence of each parent\\'s support systems within the community to benefit the child.\\n8. The mental and physical health of each parent, except that a disability of a parent alone shall not be determinative of custody.\\n9. Each parent\\'s involvement, or lack thereof, in the child\\'s educational, social, and extracurricular activities.\\n10. Each parent\\'s employment schedule and the related flexibility or limitations, if any, of a parent to care for the child.\\n11. The home, school, and community record and history of the child, as well as any health or educational special needs of the child.\\n12. The willingness and ability of each parent to facilitate and encourage a close and continuing parent-child relationship between the child and the other parent, consistent with the best interest of the child.\\n13. Any recommendation by a court-appointed custody evaluator or guardian ad litem.\\n14. Any evidence of family violence or sexual, mental, or physical child abuse or criminal history of either parent.\\n15. Any evidence of substance abuse by either parent.\\n\\nThe court\\'s primary focus is on the child\\'s welfare and ensuring that the custody arrangement serves the child\\'s best interests. The court may also consider the child\\'s own wishes if the child is of sufficient age and maturity to express a preference.'), (\"Explain the concept of 'best interests of the child.'\", 'The concept of the \"best interests of the child\" is a legal standard used in family law to determine the most favorable arrangement for a child\\'s well-being and development. This principle is paramount in decisions regarding child custody, visitation, and support. The goal is to ensure that the child\\'s physical, emotional, and psychological needs are met in the best possible way.\\n\\nIn the context of the cases provided:\\n\\n1. **Child Support and Parenting Time Deviation (OCGA § 19-6-15)**:\\n   - In the first case, the trial court applied a parenting time deviation to reduce the husband\\'s child support obligation. However, the court failed to explain how it calculated the deviation and did not include express findings that the deviation was in the best interests of the children. According to OCGA § 19-6-15, any deviation from the presumptive amount of child support must be justified by special circumstances and must be in the best interests of the child. The court must explicitly state that the deviation will not seriously impair the parent\\'s ability to provide for the child. This ensures that the child\\'s needs are prioritized over the financial convenience of the parents.\\n\\n2. **Custody and Parental Rights (Johnson v. Smith)**:\\n   - In the second case, the court dealt with the issue of custody and the surrender of parental rights. The court emphasized the importance of strict compliance with adoption statutes to protect the child\\'s best interests. The intended adoption failed because Ms. Johnson did not sign the necessary documents, and the court ruled that an invalid consent to adoption cannot be converted into a valid contractual release of parental rights. This decision underscores the principle that any action affecting a child\\'s custody or parental rights must be meticulously followed to ensure the child\\'s best interests are safeguarded.\\n\\nIn summary, the \"best interests of the child\" standard requires courts to consider various factors, including the child\\'s safety, emotional needs, stability, and the ability of each parent to meet those needs. Courts must provide clear and explicit findings to justify their decisions, ensuring that the child\\'s welfare is the primary concern in any legal determination.'), ('What is the standard for determining child custody in Georgia?', 'In Georgia, the standard for determining child custody is the \"best interests of the child.\" This standard is codified in OCGA § 19-9-3(a)(2), which requires the court to consider the best interests of the child in making any custody determination. The court evaluates various factors to determine what arrangement will best serve the child\\'s physical, mental, and emotional needs. These factors can include, but are not limited to:\\n\\n1. The love, affection, bonding, and emotional ties existing between each parent and the child.\\n2. The capacity and disposition of each parent to give the child love, affection, and guidance and to continue the education and rearing of the child.\\n3. Each parent\\'s knowledge and familiarity of the child and the child\\'s needs.\\n4. The capacity and disposition of each parent to provide the child with food, clothing, medical care, day-to-day needs, and other necessary basic care.\\n5. The home environment of each parent considering the promotion of nurturance and safety of the child rather than superficial or material factors.\\n6. The importance of continuity in the child\\'s life and the length of time the child has lived in a stable, satisfactory environment and the desirability of maintaining continuity.\\n7. The stability of the family unit of each of the parents and the presence or absence of each parent\\'s support systems within the community to benefit the child.\\n8. The mental and physical health of each parent.\\n9. Each parent\\'s involvement, or lack thereof, in the child\\'s educational, social, and extracurricular activities.\\n10. Each parent\\'s employment schedule and the related flexibility or limitations, if any, of a parent to care for the child.\\n11. The home, school, and community record and history of the child, as well as any health or educational special needs of the child.\\n12. Any evidence of family violence or sexual, mental, or physical child abuse or criminal history of either parent.\\n13. Any recommendation by a court-appointed custody evaluator or guardian ad litem.\\n14. Any evidence of substance abuse by either parent.\\n15. The willingness and ability of each parent to facilitate and encourage a close and continuing parent-child relationship between the child and the other parent, consistent with the best interest of the child.\\n\\nThe court has broad discretion in weighing these factors and making a custody determination. The overriding concern is always the best interests of the child, and the court\\'s decision will be guided by what arrangement will best promote the child\\'s welfare and happiness.')], 'answer': 'In Georgia, the standard for determining child custody is the \"best interests of the child.\" This standard is codified in OCGA § 19-9-3(a)(2), which requires the court to consider various factors to determine what arrangement will best serve the child\\'s needs and welfare. These factors include, but are not limited to, the emotional ties between the child and each parent, the parents\\' ability to provide for the child\\'s needs, the child\\'s home environment, and the child\\'s preference if they are of sufficient age and maturity.\\n\\nIn the context of the cases provided, the court must also make specific written findings of fact to support its rulings, especially when deviating from presumptive child support obligations or when granting visitation rights to grandparents. For example, in the case involving the husband\\'s child support obligation, the court was required to explain how it calculated the deviation and to include express findings that the deviation was in the best interests of the children and would not seriously impair the husband\\'s ability to provide for them.\\n\\nSimilarly, in the case involving grandparent visitation, the court must consider whether the welfare of the child would be harmed without such visitation and make specific written findings of fact to support its decision. The court must also address any constitutional challenges raised, although such challenges may be deemed moot if they no longer benefit the party seeking relief.\\n\\nOverall, the \"best interests of the child\" standard is a comprehensive and flexible guideline that allows the court to consider a wide range of factors to ensure that the child\\'s welfare is prioritized in custody and visitation decisions.', 'source_documents': [Document(page_content=\"1. The trial court's order includes a finding that husband earned gross monthly income of $5,483.56, approximately 65 percent of the parties' combined income. After determining a basic child support obligation of $1,582 for the parties' two minor children, the court calculated husband's pro rata share of the basic child support obligation to be $986.75. As evidenced in Schedule E attached to the court's order, however, the court applied a parenting time deviation of $434.66, reducing husband's monthly child support obligation to $552.09. See OCGA § 19-6-15(i)(2)(K). Husband does not on appeal challenge the court's decision to deviate from the presumptive child support obligation. Instead, he contends the trial court erred by failing to explain how the court calculated the deviation and failing to include express findings that the deviation was in the best interests of the children and would not seriously impair his ability to provide for the children. We agree.\\nBecause the trial court's order in this case was entered after July 1, 2008, the revised child support guidelines in OCGA § 19-6-15, including the 2008 amendments thereto, are applicable. See Rumley-Miawama v. Miawama, 284 Ga. 811(1), 671 S.E.2d 827 (2009). The revised guidelines permit the fact-finder to deviate\\nfrom the presumptive amount of child support when special circumstances make the presumptive amount of child support excessive or inadequate due to extended parenting time as set forth in the order of visitation or when the child resides with both parents equally.\", metadata={'source': 'opinion_text/1327652_Turner v. Turner.txt'}), Document(page_content='We    conclude,     however,      that    Appellant’s     constitutional\\n\\nchallenges are moot. “Mootness is an issue of jurisdiction and thus\\n\\nmust be determined before a court addresses the merits of a claim.”\\n\\nIn the Interest of M. F., \\n305 Ga. 820\\n, 820 (\\n828 SE2d 350\\n) (2019)\\n\\n\\n\\n     welfare of the child would be harmed without such visitation, the\\n     court shall consider and may find that harm to the child is\\n     reasonably likely to result when, prior to the original action or\\n     intervention:\\n           (A) The minor child resided with the family member for\\n           six months or more;\\n           (B) The family member provided financial support for the\\n           basic needs of the child for at least one year;\\n           (C) There was an established pattern of regular visitation\\n           or child care by the family member with the child; or\\n           (D) Any other circumstance exists indicating that\\n           emotional or physical harm would be reasonably likely to\\n           result if such visitation is not granted.\\n           The court shall make specific written findings of fact in\\n     support of its rulings.\\n     (2)   . . . . After visitation rights have been granted to any\\n     grandparent, the . . . parent of the child may petition the court for\\n     revocation or amendment of such visitation rights, for good cause\\n     shown, which the court, in its discretion, may grant or deny . . . .\\n\\n(Emphasis supplied.)\\n                                      7\\n (citation and punctuation omitted). “When the resolution of a case\\n\\nwould be tantamount to the determination of an abstract question\\n\\nnot arising upon existing facts or rights,” and “[w]hen the remedy\\n\\nsought in litigation no longer benefits the party seeking it, the case\\n\\nis moot and must be dismissed.” McAlister v. Clifton, \\n313 Ga. 737\\n,\\n\\n738 (1) (\\n873 SE2d 178\\n) (2022) (citation and punctuation omitted).\\n\\n     Here, Appellant’s constitutional challenges to the grandparent', metadata={'source': 'opinion_text/9481025_CRARY v. CLAUTICE.txt'}), Document(page_content='1.   In 2017, Appellant was granted sole legal and physical\\n\\ncustody of her minor child, and the father of Appellant’s minor child\\n\\nwas granted visitation rights. Appellees filed a petition for\\n\\ngrandparent visitation, and, on March 16, 2022, the trial court\\n\\nentered a final consent order (“Grandparent Visitation Order”),\\n\\nwhich permitted Appellees to visit with Appellant’s minor child\\n\\npursuant to an agreed-upon visitation schedule.\\n\\n      On November 16, 2022, Appellant filed a petition asking the\\n\\ntrial court to set aside and revoke the Grandparent Visitation Order,\\n\\nto issue a citation of contempt against Appellees for their failure to\\n\\ncomply with the Grandparent Visitation Order, to declare OCGA\\n\\n§ 19-7-3 facially unconstitutional and unconstitutional as applied,\\n\\nand to award Appellant attorney fees and expenses.\\n\\n      Appellant also filed a separate motion to declare the\\n\\n                                   2\\n grandparent visitation statute unconstitutional. Appellant argued\\n\\nthat the grandparent visitation statute was unconstitutional\\n\\nbecause it “fails to provide[,] and Georgia appellate decisions do not\\n\\nset forth[,]” (1) who has the burden of proof when a parent seeks to\\n\\nrevoke a grandparent visitation order, (2) whether proof by clear and\\n\\nconvincing evidence that a child would be harmed absent visitation\\n\\nis required for a grandparent to obtain visitation or for the court to\\n\\ndeny a petition to revoke visitation, (3) whether “good cause” for\\n\\nrevoking grandparent visitation is shown if there is an “absence of a\\n\\nfinding of harm,” and (4) whether courts are prevented from\\n\\ngranting or required to revoke grandparent visitation where the\\n\\nchild lives with both parents. Based on her constitutional\\n\\narguments, Appellant asked the trial court to vacate the\\n\\nGrandparent Visitation Order and “declare OCGA § 19-7-3 facially\\n\\nunconstitutional and [unconstitutional] as applied here.”\\n\\n     After Appellees answered the petition, the trial court held a', metadata={'source': 'opinion_text/9481025_CRARY v. CLAUTICE.txt'}), Document(page_content=\"684 S.E.2d 596 (2009)\\n285 Ga. 866\\nTURNER\\nv.\\nTURNER.\\nNo. S09F1313.\\nSupreme Court of Georgia.\\nOctober 5, 2009.\\n*597 Smith, Welch & Brittain, Pandora E. Palmer, Katherine E. Fagan, McDonough, for appellant.\\nEdea M. Caldwell, McDonough, for appellee.\\nTHOMPSON, Justice.\\nRaymond and Jessica Turner were married in 1999 and had two children. Raymond filed for divorce in January 2008. The parties reached a partial settlement agreement which provided, inter alia, that husband and wife would share joint legal and physical custody of their two minor children, the custody arrangement being structured so husband is to have physical custody of the children from Friday a.m. until Tuesday a.m., and wife is to have physical custody from Tuesday a.m. through Friday a.m., with exceptions for holidays and other special occasions. Husband also agreed to pay wife $11,000 representing her interest in the marital residence. Left unresolved and submitted to the trial court for determination were issues of child support and the division of extracurricular expenses. The parties waived a hearing, and after an in-chambers conference, the court entered a final judgment and divorce decree which incorporated the partial settlement agreement, ordered husband to pay $552.09 in monthly child support, and apportioned the expenses for the children's extracurricular activities two-thirds to husband and one-third to wife. This Court granted husband's application for discretionary review pursuant to the Family Law Pilot Project.[1]\", metadata={'source': 'opinion_text/1327652_Turner v. Turner.txt'})]}\n"
     ]
    }
   ],
   "source": [
    "ans = chat_scale_ai(\"What is the standard for determining child custody in Georgia?\")"
   ]
  },
  {
   "cell_type": "code",
   "execution_count": 8,
   "metadata": {},
   "outputs": [
    {
     "data": {
      "text/plain": [
       "'In Georgia, the standard for determining child custody is the \"best interests of the child.\" This standard is codified in OCGA § 19-9-3(a)(2), which requires the court to consider the best interests of the child in making any custody determination. The court may consider a variety of factors, including but not limited to:\\n\\n1. The love, affection, bonding, and emotional ties existing between each parent and the child.\\n2. The capacity and disposition of each parent to give the child love, affection, and guidance and to continue the education and rearing of the child.\\n3. Each parent\\'s knowledge and familiarity of the child and the child\\'s needs.\\n4. The capacity and disposition of each parent to provide the child with food, clothing, medical care, day-to-day needs, and other necessary basic care.\\n5. The home environment of each parent considering the promotion of nurturance and safety of the child rather than superficial or material factors.\\n6. The importance of continuity in the child\\'s life and the length of time the child has lived in a stable, satisfactory environment and the desirability of maintaining continuity.\\n7. The stability of the family unit of each of the parents and the presence or absence of each parent\\'s support systems within the community to benefit the child.\\n8. The mental and physical health of each parent, except that a disability of a parent alone shall not be determinative of custody.\\n9. Each parent\\'s involvement, or lack thereof, in the child\\'s educational, social, and extracurricular activities.\\n10. Each parent\\'s employment schedule and the related flexibility or limitations, if any, of a parent to care for the child.\\n11. The home, school, and community record and history of the child, as well as any health or educational special needs of the child.\\n12. The willingness and ability of each parent to facilitate and encourage a close and continuing parent-child relationship between the child and the other parent, consistent with the best interest of the child.\\n13. Any recommendation by a court-appointed custody evaluator or guardian ad litem.\\n14. Any evidence of family violence or sexual, mental, or physical child abuse or criminal history of either parent.\\n15. Any evidence of substance abuse by either parent.\\n\\nThe court\\'s primary focus is on the child\\'s welfare and ensuring that the custody arrangement serves the child\\'s best interests. The court may also consider the child\\'s own wishes if the child is of sufficient age and maturity to express a preference.'"
      ]
     },
     "execution_count": 8,
     "metadata": {},
     "output_type": "execute_result"
    }
   ],
   "source": [
    "ans"
   ]
  },
  {
   "cell_type": "markdown",
   "metadata": {},
   "source": [
    "'In Georgia, the standard for determining child custody is the \"best interests of the child.\" This standard is codified in OCGA § 19-9-3(a)(2), which requires the court to consider the best interests of the child in making any custody determination. The court may consider a variety of factors, including but not limited to:\\n\\n1. The love, affection, bonding, and emotional ties existing between each parent and the child.\\n2. The capacity and disposition of each parent to give the child love, affection, and guidance and to continue the education and rearing of the child.\\n3. Each parent\\'s knowledge and familiarity of the child and the child\\'s needs.\\n4. The capacity and disposition of each parent to provide the child with food, clothing, medical care, day-to-day needs, and other necessary basic care.\\n5. The home environment of each parent considering the promotion of nurturance and safety of the child rather than superficial or material factors.\\n6. The importance of continuity in the child\\'s life and the length of time the child has lived in a stable, satisfactory environment and the desirability of maintaining continuity.\\n7. The stability of the family unit of each of the parents and the presence or absence of each parent\\'s support systems within the community to benefit the child.\\n8. The mental and physical health of each parent, except that a disability of a parent alone shall not be determinative of custody.\\n9. Each parent\\'s involvement, or lack thereof, in the child\\'s educational, social, and extracurricular activities.\\n10. Each parent\\'s employment schedule and the related flexibility or limitations, if any, of a parent to care for the child.\\n11. The home, school, and community record and history of the child, as well as any health or educational special needs of the child.\\n12. The willingness and ability of each parent to facilitate and encourage a close and continuing parent-child relationship between the child and the other parent, consistent with the best interest of the child.\\n13. Any recommendation by a court-appointed custody evaluator or guardian ad litem.\\n14. Any evidence of family violence or sexual, mental, or physical child abuse or criminal history of either parent.\\n15. Any evidence of substance abuse by either parent.\\n\\nThe court\\'s primary focus is on the child\\'s welfare and ensuring that the custody arrangement serves the child\\'s best interests. The court may also consider the child\\'s own wishes if the child is of sufficient age and maturity to express a preference.'"
   ]
  },
  {
   "cell_type": "code",
   "execution_count": 9,
   "metadata": {},
   "outputs": [
    {
     "data": {
      "text/plain": [
       "'The concept of the \"best interests of the child\" is a legal standard used in family law to determine the most favorable arrangement for a child\\'s well-being and development. This principle is paramount in decisions regarding child custody, visitation, and support. The goal is to ensure that the child\\'s physical, emotional, and psychological needs are met in the best possible way.\\n\\nIn the context of the cases provided:\\n\\n1. **Child Support and Parenting Time Deviation (OCGA § 19-6-15)**:\\n   - In the first case, the trial court applied a parenting time deviation to reduce the husband\\'s child support obligation. However, the court failed to explain how it calculated the deviation and did not include express findings that the deviation was in the best interests of the children. According to OCGA § 19-6-15, any deviation from the presumptive amount of child support must be justified by special circumstances and must be in the best interests of the child. The court must explicitly state that the deviation will not seriously impair the parent\\'s ability to provide for the child. This ensures that the child\\'s needs are prioritized over the financial convenience of the parents.\\n\\n2. **Custody and Parental Rights (Johnson v. Smith)**:\\n   - In the second case, the court dealt with the issue of custody and the surrender of parental rights. The court emphasized the importance of strict compliance with adoption statutes to protect the child\\'s best interests. The intended adoption failed because Ms. Johnson did not sign the necessary documents, and the court ruled that an invalid consent to adoption cannot be converted into a valid contractual release of parental rights. This decision underscores the principle that any action affecting a child\\'s custody or parental rights must be meticulously followed to ensure the child\\'s best interests are safeguarded.\\n\\nIn summary, the \"best interests of the child\" standard requires courts to consider various factors, including the child\\'s safety, emotional needs, stability, and the ability of each parent to meet those needs. Courts must provide clear and explicit findings to justify their decisions, ensuring that the child\\'s welfare is the primary concern in any legal determination.'"
      ]
     },
     "execution_count": 9,
     "metadata": {},
     "output_type": "execute_result"
    }
   ],
   "source": [
    "ans = chat_scale_ai(\"Explain the concept of 'best interests of the child.'\")\n",
    "ans"
   ]
  },
  {
   "cell_type": "markdown",
   "metadata": {},
   "source": [
    "'The concept of the \"best interests of the child\" is a legal standard used in family law to determine the most favorable arrangement for a child\\'s well-being and development. This principle is paramount in decisions regarding child custody, visitation, and support. The goal is to ensure that the child\\'s physical, emotional, and psychological needs are met in the best possible way.\\n\\nIn the context of the cases provided:\\n\\n1. **Child Support and Parenting Time Deviation (OCGA § 19-6-15)**:\\n   - In the first case, the trial court applied a parenting time deviation to reduce the husband\\'s child support obligation. However, the court failed to explain how it calculated the deviation and did not include express findings that the deviation was in the best interests of the children. According to OCGA § 19-6-15, any deviation from the presumptive amount of child support must be justified by special circumstances and must be in the best interests of the child. The court must explicitly state that the deviation will not seriously impair the parent\\'s ability to provide for the child. This ensures that the child\\'s needs are prioritized over the financial convenience of the parents.\\n\\n2. **Custody and Parental Rights (Johnson v. Smith)**:\\n   - In the second case, the court dealt with the issue of custody and the surrender of parental rights. The court emphasized the importance of strict compliance with adoption statutes to protect the child\\'s best interests. The intended adoption failed because Ms. Johnson did not sign the necessary documents, and the court ruled that an invalid consent to adoption cannot be converted into a valid contractual release of parental rights. This decision underscores the principle that any action affecting a child\\'s custody or parental rights must be meticulously followed to ensure the child\\'s best interests are safeguarded.\\n\\nIn summary, the \"best interests of the child\" standard requires courts to consider various factors, including the child\\'s safety, emotional needs, stability, and the ability of each parent to meet those needs. Courts must provide clear and explicit findings to justify their decisions, ensuring that the child\\'s welfare is the primary concern in any legal determination.'"
   ]
  },
  {
   "cell_type": "markdown",
   "metadata": {},
   "source": [
    "{'question': 'What is the standard for determining child custody in Georgia?', 'chat_history': [('What is the standard for determining child custody in Georgia?', 'In Georgia, the standard for determining child custody is the \"best interests of the child.\" This standard is codified in OCGA § 19-9-3(a)(2), which requires the court to consider the best interests of the child in making custody decisions. The court evaluates various factors to determine what arrangement will best serve the child\\'s physical, mental, and emotional needs. These factors can include, but are not limited to:\\n\\n1. The love, affection, bonding, and emotional ties existing between each parent and the child.\\n2. The capacity and disposition of each parent to give the child love, affection, and guidance and to continue the education and rearing of the child.\\n3. Each parent\\'s knowledge and familiarity of the child and the child\\'s needs.\\n4. The capacity and disposition of each parent to provide the child with food, clothing, medical care, day-to-day needs, and other necessary basic care.\\n5. The home environment of each parent considering the promotion of nurturance and safety of the child rather than superficial or material factors.\\n6. The importance of continuity in the child\\'s life and the length of time the child has lived in a stable, satisfactory environment and the desirability of maintaining continuity.\\n7. The stability of the family unit of each of the parents and the presence or absence of each parent\\'s support systems within the community to benefit the child.\\n8. The mental and physical health of each parent.\\n9. Each parent\\'s involvement, or lack thereof, in the child\\'s educational, social, and extracurricular activities.\\n10. Each parent\\'s employment schedule and the related flexibility or limitations, if any, of a parent to care for the child.\\n11. The home, school, and community record and history of the child, as well as any health or educational special needs of the child.\\n12. The willingness and ability of each parent to facilitate and encourage a close and continuing parent-child relationship between the child and the other parent, consistent with the best interest of the child.\\n13. Any recommendation by a court-appointed custody evaluator or guardian ad litem.\\n14. Any evidence of family violence or sexual, mental, or physical child abuse or criminal history of either parent.\\n15. Any evidence of substance abuse by either parent.\\n\\nThe court has broad discretion in weighing these factors and making a custody determination. The primary focus is always on what will best serve the child\\'s overall welfare and development.'), ('What is law?', 'The term \"law\" refers to a system of rules created and enforced through social or governmental institutions to regulate behavior. It is a system that regulates and ensures that individuals or a community adhere to the will of the state. The law is established and enforced by the controlling authority, typically the government, and it is backed by the enforcement of penalties. The law shapes politics, economics, history, and society in various ways and serves as a mediator of relations between people.'), ('What is the standard for determining child custody in Georgia?', 'In Georgia, the standard for determining child custody is the \"best interests of the child.\" This standard is codified in OCGA § 19-9-3(a)(2), which requires the court to consider the best interests of the child in making any custody determination. The court may consider a variety of factors, including but not limited to:\\n\\n1. The love, affection, bonding, and emotional ties existing between each parent and the child.\\n2. The capacity and disposition of each parent to give the child love, affection, and guidance and to continue the education and rearing of the child.\\n3. Each parent\\'s knowledge and familiarity of the child and the child\\'s needs.\\n4. The capacity and disposition of each parent to provide the child with food, clothing, medical care, day-to-day needs, and other necessary basic care.\\n5. The home environment of each parent considering the promotion of nurturance and safety of the child rather than superficial or material factors.\\n6. The importance of continuity in the child\\'s life and the length of time the child has lived in a stable, satisfactory environment and the desirability of maintaining continuity.\\n7. The stability of the family unit of each of the parents and the presence or absence of each parent\\'s support systems within the community to benefit the child.\\n8. The mental and physical health of each parent, except that a disability of a parent alone shall not be determinative of custody.\\n9. Each parent\\'s involvement, or lack thereof, in the child\\'s educational, social, and extracurricular activities.\\n10. Each parent\\'s employment schedule and the related flexibility or limitations, if any, of a parent to care for the child.\\n11. The home, school, and community record and history of the child, as well as any health or educational special needs of the child.\\n12. The willingness and ability of each parent to facilitate and encourage a close and continuing parent-child relationship between the child and the other parent, consistent with the best interest of the child.\\n13. Any recommendation by a court-appointed custody evaluator or guardian ad litem.\\n14. Any evidence of family violence or sexual, mental, or physical child abuse or criminal history of either parent.\\n15. Any evidence of substance abuse by either parent.\\n\\nThe court\\'s primary focus is on the child\\'s welfare and ensuring that the custody arrangement serves the child\\'s best interests. The court may also consider the child\\'s own wishes if the child is of sufficient age and maturity to express a preference.'), (\"Explain the concept of 'best interests of the child.'\", 'The concept of the \"best interests of the child\" is a legal standard used in family law to determine the most favorable arrangement for a child\\'s well-being and development. This principle is paramount in decisions regarding child custody, visitation, and support. The goal is to ensure that the child\\'s physical, emotional, and psychological needs are met in the best possible way.\\n\\nIn the context of the cases provided:\\n\\n1. **Child Support and Parenting Time Deviation (OCGA § 19-6-15)**:\\n   - In the first case, the trial court applied a parenting time deviation to reduce the husband\\'s child support obligation. However, the court failed to explain how it calculated the deviation and did not include express findings that the deviation was in the best interests of the children. According to OCGA § 19-6-15, any deviation from the presumptive amount of child support must be justified by special circumstances and must be in the best interests of the child. The court must explicitly state that the deviation will not seriously impair the parent\\'s ability to provide for the child. This ensures that the child\\'s needs are prioritized over the financial convenience of the parents.\\n\\n2. **Custody and Parental Rights (Johnson v. Smith)**:\\n   - In the second case, the court dealt with the issue of custody and the surrender of parental rights. The court emphasized the importance of strict compliance with adoption statutes to protect the child\\'s best interests. The intended adoption failed because Ms. Johnson did not sign the necessary documents, and the court ruled that an invalid consent to adoption cannot be converted into a valid contractual release of parental rights. This decision underscores the principle that any action affecting a child\\'s custody or parental rights must be meticulously followed to ensure the child\\'s best interests are safeguarded.\\n\\nIn summary, the \"best interests of the child\" standard requires courts to consider various factors, including the child\\'s safety, emotional needs, stability, and the ability of each parent to meet those needs. Courts must provide clear and explicit findings to justify their decisions, ensuring that the child\\'s welfare is the primary concern in any legal determination.'), ('What is the standard for determining child custody in Georgia?', 'In Georgia, the standard for determining child custody is the \"best interests of the child.\" This standard is codified in OCGA § 19-9-3(a)(2), which requires the court to consider the best interests of the child in making any custody determination. The court evaluates various factors to determine what arrangement will best serve the child\\'s physical, mental, and emotional needs. These factors can include, but are not limited to:\\n\\n1. The love, affection, bonding, and emotional ties existing between each parent and the child.\\n2. The capacity and disposition of each parent to give the child love, affection, and guidance and to continue the education and rearing of the child.\\n3. Each parent\\'s knowledge and familiarity of the child and the child\\'s needs.\\n4. The capacity and disposition of each parent to provide the child with food, clothing, medical care, day-to-day needs, and other necessary basic care.\\n5. The home environment of each parent considering the promotion of nurturance and safety of the child rather than superficial or material factors.\\n6. The importance of continuity in the child\\'s life and the length of time the child has lived in a stable, satisfactory environment and the desirability of maintaining continuity.\\n7. The stability of the family unit of each of the parents and the presence or absence of each parent\\'s support systems within the community to benefit the child.\\n8. The mental and physical health of each parent.\\n9. Each parent\\'s involvement, or lack thereof, in the child\\'s educational, social, and extracurricular activities.\\n10. Each parent\\'s employment schedule and the related flexibility or limitations, if any, of a parent to care for the child.\\n11. The home, school, and community record and history of the child, as well as any health or educational special needs of the child.\\n12. Any evidence of family violence or sexual, mental, or physical child abuse or criminal history of either parent.\\n13. Any recommendation by a court-appointed custody evaluator or guardian ad litem.\\n14. Any evidence of substance abuse by either parent.\\n15. The willingness and ability of each parent to facilitate and encourage a close and continuing parent-child relationship between the child and the other parent, consistent with the best interest of the child.\\n\\nThe court has broad discretion in weighing these factors and making a custody determination. The overriding concern is always the best interests of the child, and the court\\'s decision will be guided by what arrangement will best promote the child\\'s welfare and happiness.')], 'answer': 'In Georgia, the standard for determining child custody is the \"best interests of the child.\" This standard is codified in OCGA § 19-9-3(a)(2), which requires the court to consider various factors to determine what arrangement will best serve the child\\'s needs and welfare. These factors include, but are not limited to, the emotional ties between the child and each parent, the parents\\' ability to provide for the child\\'s needs, the child\\'s home environment, and the child\\'s preference if they are of sufficient age and maturity.\\n\\nIn the context of the cases provided, the court must also make specific written findings of fact to support its rulings, especially when deviating from presumptive child support obligations or when granting visitation rights to grandparents. For example, in the case involving the husband\\'s child support obligation, the court was required to explain how it calculated the deviation and to include express findings that the deviation was in the best interests of the children and would not seriously impair the husband\\'s ability to provide for them.\\n\\nSimilarly, in the case involving grandparent visitation, the court must consider whether the welfare of the child would be harmed without such visitation and make specific written findings of fact to support its decision. The court must also address any constitutional challenges raised, although such challenges may be deemed moot if they no longer benefit the party seeking relief.\\n\\nOverall, the \"best interests of the child\" standard is a comprehensive and flexible guideline that allows the court to consider a wide range of factors to ensure that the child\\'s welfare is prioritized in custody and visitation decisions.', 'source_documents': [Document(page_content=\"1. The trial court's order includes a finding that husband earned gross monthly income of $5,483.56, approximately 65 percent of the parties' combined income. After determining a basic child support obligation of $1,582 for the parties' two minor children, the court calculated husband's pro rata share of the basic child support obligation to be $986.75. As evidenced in Schedule E attached to the court's order, however, the court applied a parenting time deviation of $434.66, reducing husband's monthly child support obligation to $552.09. See OCGA § 19-6-15(i)(2)(K). Husband does not on appeal challenge the court's decision to deviate from the presumptive child support obligation. Instead, he contends the trial court erred by failing to explain how the court calculated the deviation and failing to include express findings that the deviation was in the best interests of the children and would not seriously impair his ability to provide for the children. We agree.\\nBecause the trial court's order in this case was entered after July 1, 2008, the revised child support guidelines in OCGA § 19-6-15, including the 2008 amendments thereto, are applicable. See Rumley-Miawama v. Miawama, 284 Ga. 811(1), 671 S.E.2d 827 (2009). The revised guidelines permit the fact-finder to deviate\\nfrom the presumptive amount of child support when special circumstances make the presumptive amount of child support excessive or inadequate due to extended parenting time as set forth in the order of visitation or when the child resides with both parents equally.\", metadata={'source': 'opinion_text/1327652_Turner v. Turner.txt'}), Document(page_content='We    conclude,     however,      that    Appellant’s     constitutional\\n\\nchallenges are moot. “Mootness is an issue of jurisdiction and thus\\n\\nmust be determined before a court addresses the merits of a claim.”\\n\\nIn the Interest of M. F., \\n305 Ga. 820\\n, 820 (\\n828 SE2d 350\\n) (2019)\\n\\n\\n\\n     welfare of the child would be harmed without such visitation, the\\n     court shall consider and may find that harm to the child is\\n     reasonably likely to result when, prior to the original action or\\n     intervention:\\n           (A) The minor child resided with the family member for\\n           six months or more;\\n           (B) The family member provided financial support for the\\n           basic needs of the child for at least one year;\\n           (C) There was an established pattern of regular visitation\\n           or child care by the family member with the child; or\\n           (D) Any other circumstance exists indicating that\\n           emotional or physical harm would be reasonably likely to\\n           result if such visitation is not granted.\\n           The court shall make specific written findings of fact in\\n     support of its rulings.\\n     (2)   . . . . After visitation rights have been granted to any\\n     grandparent, the . . . parent of the child may petition the court for\\n     revocation or amendment of such visitation rights, for good cause\\n     shown, which the court, in its discretion, may grant or deny . . . .\\n\\n(Emphasis supplied.)\\n                                      7\\n (citation and punctuation omitted). “When the resolution of a case\\n\\nwould be tantamount to the determination of an abstract question\\n\\nnot arising upon existing facts or rights,” and “[w]hen the remedy\\n\\nsought in litigation no longer benefits the party seeking it, the case\\n\\nis moot and must be dismissed.” McAlister v. Clifton, \\n313 Ga. 737\\n,\\n\\n738 (1) (\\n873 SE2d 178\\n) (2022) (citation and punctuation omitted).\\n\\n     Here, Appellant’s constitutional challenges to the grandparent', metadata={'source': 'opinion_text/9481025_CRARY v. CLAUTICE.txt'}), Document(page_content='1.   In 2017, Appellant was granted sole legal and physical\\n\\ncustody of her minor child, and the father of Appellant’s minor child\\n\\nwas granted visitation rights. Appellees filed a petition for\\n\\ngrandparent visitation, and, on March 16, 2022, the trial court\\n\\nentered a final consent order (“Grandparent Visitation Order”),\\n\\nwhich permitted Appellees to visit with Appellant’s minor child\\n\\npursuant to an agreed-upon visitation schedule.\\n\\n      On November 16, 2022, Appellant filed a petition asking the\\n\\ntrial court to set aside and revoke the Grandparent Visitation Order,\\n\\nto issue a citation of contempt against Appellees for their failure to\\n\\ncomply with the Grandparent Visitation Order, to declare OCGA\\n\\n§ 19-7-3 facially unconstitutional and unconstitutional as applied,\\n\\nand to award Appellant attorney fees and expenses.\\n\\n      Appellant also filed a separate motion to declare the\\n\\n                                   2\\n grandparent visitation statute unconstitutional. Appellant argued\\n\\nthat the grandparent visitation statute was unconstitutional\\n\\nbecause it “fails to provide[,] and Georgia appellate decisions do not\\n\\nset forth[,]” (1) who has the burden of proof when a parent seeks to\\n\\nrevoke a grandparent visitation order, (2) whether proof by clear and\\n\\nconvincing evidence that a child would be harmed absent visitation\\n\\nis required for a grandparent to obtain visitation or for the court to\\n\\ndeny a petition to revoke visitation, (3) whether “good cause” for\\n\\nrevoking grandparent visitation is shown if there is an “absence of a\\n\\nfinding of harm,” and (4) whether courts are prevented from\\n\\ngranting or required to revoke grandparent visitation where the\\n\\nchild lives with both parents. Based on her constitutional\\n\\narguments, Appellant asked the trial court to vacate the\\n\\nGrandparent Visitation Order and “declare OCGA § 19-7-3 facially\\n\\nunconstitutional and [unconstitutional] as applied here.”\\n\\n     After Appellees answered the petition, the trial court held a', metadata={'source': 'opinion_text/9481025_CRARY v. CLAUTICE.txt'}), Document(page_content=\"684 S.E.2d 596 (2009)\\n285 Ga. 866\\nTURNER\\nv.\\nTURNER.\\nNo. S09F1313.\\nSupreme Court of Georgia.\\nOctober 5, 2009.\\n*597 Smith, Welch & Brittain, Pandora E. Palmer, Katherine E. Fagan, McDonough, for appellant.\\nEdea M. Caldwell, McDonough, for appellee.\\nTHOMPSON, Justice.\\nRaymond and Jessica Turner were married in 1999 and had two children. Raymond filed for divorce in January 2008. The parties reached a partial settlement agreement which provided, inter alia, that husband and wife would share joint legal and physical custody of their two minor children, the custody arrangement being structured so husband is to have physical custody of the children from Friday a.m. until Tuesday a.m., and wife is to have physical custody from Tuesday a.m. through Friday a.m., with exceptions for holidays and other special occasions. Husband also agreed to pay wife $11,000 representing her interest in the marital residence. Left unresolved and submitted to the trial court for determination were issues of child support and the division of extracurricular expenses. The parties waived a hearing, and after an in-chambers conference, the court entered a final judgment and divorce decree which incorporated the partial settlement agreement, ordered husband to pay $552.09 in monthly child support, and apportioned the expenses for the children's extracurricular activities two-thirds to husband and one-third to wife. This Court granted husband's application for discretionary review pursuant to the Family Law Pilot Project.[1]\", metadata={'source': 'opinion_text/1327652_Turner v. Turner.txt'})]}\n"
   ]
  }
 ],
 "metadata": {
  "kernelspec": {
   "display_name": "MARBLE",
   "language": "python",
   "name": "python3"
  },
  "language_info": {
   "codemirror_mode": {
    "name": "ipython",
    "version": 3
   },
   "file_extension": ".py",
   "mimetype": "text/x-python",
   "name": "python",
   "nbconvert_exporter": "python",
   "pygments_lexer": "ipython3",
   "version": "3.11.1"
  }
 },
 "nbformat": 4,
 "nbformat_minor": 2
}
